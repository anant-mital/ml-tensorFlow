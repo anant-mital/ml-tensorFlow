{
 "metadata": {
  "language_info": {
   "codemirror_mode": {
    "name": "ipython",
    "version": 3
   },
   "file_extension": ".py",
   "mimetype": "text/x-python",
   "name": "python",
   "nbconvert_exporter": "python",
   "pygments_lexer": "ipython3",
   "version": "3.7.9"
  },
  "orig_nbformat": 2,
  "kernelspec": {
   "name": "python379jvsc74a57bd0c39eb5e2367948a99c8adabcea8451e62e0d43cce6c981e72091588869bd4926",
   "display_name": "Python 3.7.9 64-bit ('tf-gpu': conda)"
  }
 },
 "nbformat": 4,
 "nbformat_minor": 2,
 "cells": [
  {
   "source": [
    "import numpy as np\n",
    "import tensorflow as tf\n",
    "from tensorflow.keras.models import Sequential\n",
    "from tensorflow.keras.layers import Flatten, Dense\n",
    "from tensorflow.keras.activations import tanh\n",
    "from tensorflow.keras.optimizers import Adam\n",
    "from tensorflow.keras.losses import MeanSquaredError\n"
   ],
   "cell_type": "code",
   "metadata": {},
   "execution_count": 18,
   "outputs": []
  },
  {
   "cell_type": "code",
   "execution_count": 12,
   "metadata": {},
   "outputs": [],
   "source": [
    "def generate_time_series(batch_size, n_steps):\n",
    "\n",
    "    freq1, freq2, offsets1, offsets2  = np.random.rand(4, batch_size, 1)\n",
    "    time = np.linspace(0, 1, n_steps)\n",
    "    series = 0.5 * np.sin((time - offsets1) * (freq1 * 10 + 10)) # Sinusoid 1\n",
    "    series += 0.2 * np.sin((time - offsets2) * (freq2 * 20 + 20)) # Sinusoid 1 + Sinusoid 2\n",
    "    series = 0.1 * (np.random.rand(batch_size, n_steps) - 0.5) # Sinusoid 1 + Sinusoid 2 + Noise\n",
    "\n",
    "    return series[..., np.newaxis].astype(np.float32)\n",
    "\n",
    "n_steps = 50\n",
    "batch_size = 10000\n",
    "\n",
    "series = generate_time_series(batch_size, n_steps + 1)"
   ]
  },
  {
   "cell_type": "code",
   "execution_count": 13,
   "metadata": {},
   "outputs": [],
   "source": [
    "# Create training set\n",
    "X_train, y_train = series[:7000,:n_steps], series[:7000, -1]\n",
    "\n",
    "# Create test set\n",
    "X_test, y_test = series[7000:8000, :n_steps], series[7000:8000, -1]\n",
    "\n",
    "# Create validation set\n",
    "X_val, y_val = series[8000:, :n_steps], series[8000:,-1]"
   ]
  },
  {
   "cell_type": "code",
   "execution_count": 14,
   "metadata": {},
   "outputs": [
    {
     "output_type": "stream",
     "name": "stdout",
     "text": [
      "0.0016794842\n"
     ]
    }
   ],
   "source": [
    "# Baseline metrics\n",
    "y_pred = X_val[:,-1]\n",
    "baseline_error = np.mean(tf.keras.losses.mean_squared_error(y_pred, y_val))\n",
    "print(baseline_error)"
   ]
  },
  {
   "cell_type": "code",
   "execution_count": 19,
   "metadata": {},
   "outputs": [
    {
     "output_type": "stream",
     "name": "stdout",
     "text": [
      "Model: \"sequential_2\"\n_________________________________________________________________\nLayer (type)                 Output Shape              Param #   \n=================================================================\nflatten_2 (Flatten)          (None, 50)                0         \n_________________________________________________________________\ndense_2 (Dense)              (None, 1)                 51        \n=================================================================\nTotal params: 51\nTrainable params: 51\nNon-trainable params: 0\n_________________________________________________________________\n"
     ]
    }
   ],
   "source": [
    "# Designing a simple NN to do a sequential prediction\n",
    "\n",
    "model = Sequential()\n",
    "model.add(Flatten(input_shape = [50,1]))\n",
    "model.add(Dense(1, activation = tanh))\n",
    "\n",
    "model.summary()\n"
   ]
  },
  {
   "cell_type": "code",
   "execution_count": 1,
   "metadata": {},
   "outputs": [
    {
     "output_type": "error",
     "ename": "NameError",
     "evalue": "name 'model' is not defined",
     "traceback": [
      "\u001b[1;31m---------------------------------------------------------------------------\u001b[0m",
      "\u001b[1;31mNameError\u001b[0m                                 Traceback (most recent call last)",
      "\u001b[1;32m<ipython-input-1-5a67f87db0e1>\u001b[0m in \u001b[0;36m<module>\u001b[1;34m\u001b[0m\n\u001b[1;32m----> 1\u001b[1;33m model.compile(\n\u001b[0m\u001b[0;32m      2\u001b[0m     \u001b[0moptimizer\u001b[0m \u001b[1;33m=\u001b[0m \u001b[0mAdam\u001b[0m\u001b[1;33m(\u001b[0m\u001b[0mlearning_rate\u001b[0m \u001b[1;33m=\u001b[0m \u001b[1;36m0.01\u001b[0m\u001b[1;33m)\u001b[0m\u001b[1;33m,\u001b[0m\u001b[1;33m\u001b[0m\u001b[1;33m\u001b[0m\u001b[0m\n\u001b[0;32m      3\u001b[0m     \u001b[0mloss\u001b[0m \u001b[1;33m=\u001b[0m \u001b[0mMeanSquaredError\u001b[0m\u001b[1;33m(\u001b[0m\u001b[1;33m)\u001b[0m\u001b[1;33m,\u001b[0m\u001b[1;33m\u001b[0m\u001b[1;33m\u001b[0m\u001b[0m\n\u001b[0;32m      4\u001b[0m )\n",
      "\u001b[1;31mNameError\u001b[0m: name 'model' is not defined"
     ]
    }
   ],
   "source": [
    "model.compile(\n",
    "    optimizer = Adam(learning_rate = 0.01),\n",
    "    loss = MeanSquaredError(),\n",
    ")"
   ]
  },
  {
   "cell_type": "code",
   "execution_count": 17,
   "metadata": {},
   "outputs": [
    {
     "output_type": "stream",
     "name": "stdout",
     "text": [
      "Train on 7000 samples, validate on 2000 samples\n",
      "Epoch 1/20\n",
      "7000/7000 [==============================] - 1s 121us/sample - loss: 0.0014 - val_loss: 8.8559e-04\n",
      "Epoch 2/20\n",
      "7000/7000 [==============================] - 0s 14us/sample - loss: 8.6805e-04 - val_loss: 8.5147e-04\n",
      "Epoch 3/20\n",
      "7000/7000 [==============================] - 0s 13us/sample - loss: 8.4913e-04 - val_loss: 8.4069e-04\n",
      "Epoch 4/20\n",
      "7000/7000 [==============================] - 0s 12us/sample - loss: 8.4885e-04 - val_loss: 8.5094e-04\n",
      "Epoch 5/20\n",
      "7000/7000 [==============================] - 0s 13us/sample - loss: 8.5341e-04 - val_loss: 8.5676e-04\n",
      "Epoch 6/20\n",
      "7000/7000 [==============================] - 0s 13us/sample - loss: 8.5921e-04 - val_loss: 8.4264e-04\n",
      "Epoch 7/20\n",
      "7000/7000 [==============================] - 0s 12us/sample - loss: 8.5039e-04 - val_loss: 8.4402e-04\n",
      "Epoch 8/20\n",
      "7000/7000 [==============================] - 0s 13us/sample - loss: 8.5399e-04 - val_loss: 8.4316e-04\n",
      "Epoch 9/20\n",
      "7000/7000 [==============================] - 0s 12us/sample - loss: 8.5216e-04 - val_loss: 8.5510e-04\n",
      "Epoch 10/20\n",
      "7000/7000 [==============================] - 0s 13us/sample - loss: 8.5324e-04 - val_loss: 8.5110e-04\n",
      "Epoch 11/20\n",
      "7000/7000 [==============================] - 0s 13us/sample - loss: 8.5312e-04 - val_loss: 8.5033e-04\n",
      "Epoch 12/20\n",
      "7000/7000 [==============================] - 0s 12us/sample - loss: 8.5882e-04 - val_loss: 8.4725e-04\n",
      "Epoch 13/20\n",
      "7000/7000 [==============================] - 0s 12us/sample - loss: 8.5719e-04 - val_loss: 8.5681e-04\n",
      "Epoch 14/20\n",
      "7000/7000 [==============================] - 0s 12us/sample - loss: 8.5577e-04 - val_loss: 8.4741e-04\n",
      "Epoch 15/20\n",
      "7000/7000 [==============================] - 0s 12us/sample - loss: 8.5245e-04 - val_loss: 8.4615e-04\n",
      "Epoch 16/20\n",
      "7000/7000 [==============================] - 0s 13us/sample - loss: 8.5530e-04 - val_loss: 8.6120e-04\n",
      "Epoch 17/20\n",
      "7000/7000 [==============================] - 0s 12us/sample - loss: 8.5511e-04 - val_loss: 8.7087e-04\n",
      "Epoch 18/20\n",
      "7000/7000 [==============================] - 0s 12us/sample - loss: 8.6908e-04 - val_loss: 8.5024e-04\n",
      "Epoch 19/20\n",
      "7000/7000 [==============================] - 0s 15us/sample - loss: 8.5285e-04 - val_loss: 8.5484e-04\n",
      "Epoch 20/20\n",
      "7000/7000 [==============================] - 0s 12us/sample - loss: 8.7241e-04 - val_loss: 8.6423e-04\n"
     ]
    },
    {
     "output_type": "execute_result",
     "data": {
      "text/plain": [
       "<tensorflow.python.keras.callbacks.History at 0x27f8a249988>"
      ]
     },
     "metadata": {},
     "execution_count": 17
    }
   ],
   "source": [
    "model.fit(x = X_train, y = y_train , batch_size = 256, epochs= 20, validation_data = (X_val, y_val) )"
   ]
  }
 ]
}