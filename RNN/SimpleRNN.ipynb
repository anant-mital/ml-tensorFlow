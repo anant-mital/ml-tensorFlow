{
 "metadata": {
  "language_info": {
   "codemirror_mode": {
    "name": "ipython",
    "version": 3
   },
   "file_extension": ".py",
   "mimetype": "text/x-python",
   "name": "python",
   "nbconvert_exporter": "python",
   "pygments_lexer": "ipython3",
   "version": "3.7.9"
  },
  "orig_nbformat": 2,
  "kernelspec": {
   "name": "python379jvsc74a57bd0c39eb5e2367948a99c8adabcea8451e62e0d43cce6c981e72091588869bd4926",
   "display_name": "Python 3.7.9 64-bit ('tf-gpu': conda)"
  }
 },
 "nbformat": 4,
 "nbformat_minor": 2,
 "cells": [
  {
   "cell_type": "code",
   "execution_count": 9,
   "metadata": {},
   "outputs": [],
   "source": [
    "import numpy as np\n",
    "from tensorflow.keras.models import Sequential\n",
    "from tensorflow.keras.layers import SimpleRNN\n",
    "from tensorflow.keras.activations import tanh\n",
    "from tensorflow.keras.optimizers import Adam\n",
    "from tensorflow.keras.losses import MeanSquaredError"
   ]
  },
  {
   "cell_type": "code",
   "execution_count": 2,
   "metadata": {},
   "outputs": [],
   "source": [
    "def generate_time_series(batch_size, n_steps):\n",
    "\n",
    "    freq1, freq2, offsets1, offsets2  = np.random.rand(4, batch_size, 1)\n",
    "    time = np.linspace(0, 1, n_steps)\n",
    "    series = 0.5 * np.sin((time - offsets1) * (freq1 * 10 + 10)) # Sinusoid 1\n",
    "    series += 0.2 * np.sin((time - offsets2) * (freq2 * 20 + 20)) # Sinusoid 1 + Sinusoid 2\n",
    "    series = 0.1 * (np.random.rand(batch_size, n_steps) - 0.5) # Sinusoid 1 + Sinusoid 2 + Noise\n",
    "\n",
    "    return series[..., np.newaxis].astype(np.float32)\n",
    "\n",
    "n_steps = 50\n",
    "batch_size = 10000\n",
    "\n",
    "series = generate_time_series(batch_size, n_steps + 1)"
   ]
  },
  {
   "cell_type": "code",
   "execution_count": 3,
   "metadata": {},
   "outputs": [],
   "source": [
    "# Create training set\n",
    "X_train, y_train = series[:7000,:n_steps], series[:7000, -1]\n",
    "\n",
    "# Create test set\n",
    "X_test, y_test = series[7000:8000, :n_steps], series[7000:8000, -1]\n",
    "\n",
    "# Create validation set\n",
    "X_val, y_val = series[8000:, :n_steps], series[8000:,-1]"
   ]
  },
  {
   "cell_type": "code",
   "execution_count": 5,
   "metadata": {},
   "outputs": [
    {
     "output_type": "stream",
     "name": "stdout",
     "text": [
      "Model: \"sequential_1\"\n_________________________________________________________________\nLayer (type)                 Output Shape              Param #   \n=================================================================\nsimple_rnn (SimpleRNN)       (None, 1)                 3         \n=================================================================\nTotal params: 3\nTrainable params: 3\nNon-trainable params: 0\n_________________________________________________________________\n"
     ]
    }
   ],
   "source": [
    "model = Sequential()\n",
    "model.add(SimpleRNN(units = 1, input_shape = [None, 1] ))\n",
    "model.summary()"
   ]
  },
  {
   "cell_type": "code",
   "execution_count": 10,
   "metadata": {},
   "outputs": [],
   "source": [
    "model.compile(\n",
    "    optimizer = Adam(learning_rate = 0.01),\n",
    "    loss = MeanSquaredError()\n",
    "\n",
    ")"
   ]
  },
  {
   "cell_type": "code",
   "execution_count": 11,
   "metadata": {},
   "outputs": [
    {
     "output_type": "stream",
     "name": "stdout",
     "text": [
      "Train on 7000 samples, validate on 2000 samples\n",
      "Epoch 1/20\n",
      "7000/7000 [==============================] - 2s 260us/sample - loss: 0.0066 - val_loss: 0.0031\n",
      "Epoch 2/20\n",
      "7000/7000 [==============================] - 1s 101us/sample - loss: 0.0024 - val_loss: 0.0021\n",
      "Epoch 3/20\n",
      "7000/7000 [==============================] - 1s 104us/sample - loss: 0.0018 - val_loss: 0.0017\n",
      "Epoch 4/20\n",
      "7000/7000 [==============================] - 1s 100us/sample - loss: 0.0014 - val_loss: 0.0014\n",
      "Epoch 5/20\n",
      "7000/7000 [==============================] - 1s 103us/sample - loss: 0.0012 - val_loss: 0.0012\n",
      "Epoch 6/20\n",
      "7000/7000 [==============================] - 1s 100us/sample - loss: 0.0011 - val_loss: 0.0011\n",
      "Epoch 7/20\n",
      "7000/7000 [==============================] - 1s 102us/sample - loss: 9.6075e-04 - val_loss: 9.8041e-04\n",
      "Epoch 8/20\n",
      "7000/7000 [==============================] - 1s 108us/sample - loss: 9.0657e-04 - val_loss: 9.3693e-04\n",
      "Epoch 9/20\n",
      "7000/7000 [==============================] - 1s 136us/sample - loss: 8.7126e-04 - val_loss: 9.1168e-04\n",
      "Epoch 10/20\n",
      "7000/7000 [==============================] - 1s 167us/sample - loss: 8.5178e-04 - val_loss: 8.9108e-04\n",
      "Epoch 11/20\n",
      "7000/7000 [==============================] - 1s 187us/sample - loss: 8.4215e-04 - val_loss: 8.8019e-04\n",
      "Epoch 12/20\n",
      "7000/7000 [==============================] - 1s 145us/sample - loss: 8.3689e-04 - val_loss: 8.7573e-04\n",
      "Epoch 13/20\n",
      "7000/7000 [==============================] - 1s 158us/sample - loss: 8.3288e-04 - val_loss: 8.7188e-04\n",
      "Epoch 14/20\n",
      "7000/7000 [==============================] - 1s 149us/sample - loss: 8.3260e-04 - val_loss: 8.7015e-04\n",
      "Epoch 15/20\n",
      "7000/7000 [==============================] - 1s 140us/sample - loss: 8.3011e-04 - val_loss: 8.6961e-04\n",
      "Epoch 16/20\n",
      "7000/7000 [==============================] - 1s 138us/sample - loss: 8.3258e-04 - val_loss: 8.7130e-04\n",
      "Epoch 17/20\n",
      "7000/7000 [==============================] - 1s 143us/sample - loss: 8.3172e-04 - val_loss: 8.6916e-04\n",
      "Epoch 18/20\n",
      "7000/7000 [==============================] - 1s 167us/sample - loss: 8.3221e-04 - val_loss: 8.6849e-04\n",
      "Epoch 19/20\n",
      "7000/7000 [==============================] - 1s 162us/sample - loss: 8.3741e-04 - val_loss: 8.6855e-04\n",
      "Epoch 20/20\n",
      "7000/7000 [==============================] - 1s 210us/sample - loss: 8.3597e-04 - val_loss: 8.6855e-04\n"
     ]
    },
    {
     "output_type": "execute_result",
     "data": {
      "text/plain": [
       "<tensorflow.python.keras.callbacks.History at 0x22b93572a08>"
      ]
     },
     "metadata": {},
     "execution_count": 11
    }
   ],
   "source": [
    "model.fit(x = X_train, y = y_train , batch_size = 256, epochs= 20, validation_data = (X_val, y_val) )"
   ]
  },
  {
   "cell_type": "code",
   "execution_count": null,
   "metadata": {},
   "outputs": [],
   "source": []
  }
 ]
}