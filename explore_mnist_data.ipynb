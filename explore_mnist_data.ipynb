{
 "cells": [
  {
   "cell_type": "code",
   "execution_count": null,
   "metadata": {},
   "outputs": [],
   "source": [
    "import numpy as np\n",
    "import matplotlib.pyplot as plt\n",
    "import tensorflow as tf\n",
    "from tensorflow.examples.tutorials.mnist import input_data\n",
    "import random\n",
    "tf.compat.v1.logging.set_verbosity(tf.compat.v1.logging.FATAL)\n",
    "print(tf.__version__)\n"
   ]
  },
  {
   "cell_type": "code",
   "execution_count": null,
   "metadata": {},
   "outputs": [],
   "source": [
    "mnist = input_data.read_data_sets(\"./MNIST_data/\", one_hot=True)\n"
   ]
  },
  {
   "cell_type": "code",
   "execution_count": null,
   "metadata": {},
   "outputs": [],
   "source": [
    "%matplotlib inline"
   ]
  },
  {
   "cell_type": "code",
   "execution_count": null,
   "metadata": {},
   "outputs": [],
   "source": [
    "\n",
    "# Training data \n",
    "tr_data = mnist.train.images\n",
    "print(\"Training data shape: {0}\".format(tr_data.shape)) # (55000, 784)\n",
    "\n",
    "# Find 10 random images from training data and display them\n",
    "# First find 10 random rows \n",
    "randIntList = [random.randrange(tr_data.shape[0]) for _ in range(10)]\n",
    "\n",
    "# Create a figure instance\n",
    "# NOTE: To understand more about Figures in matplotlib\n",
    "# https://matplotlib.org/3.2.1/api/_as_gen/matplotlib.figure.Figure.html#matplotlib.figure.Figure.add_subplot\n",
    "fig = plt.figure()\n",
    "\n",
    "for i in range(len(randIntList)):\n",
    "    img = np.reshape(tr_data[randIntList[i],:],[28,28])\n",
    "    fig.add_subplot(1,len(randIntList),i+1)\n",
    "    imgPlot = plt.imshow(img)\n",
    "\n",
    "tr_labels = mnist.train.labels\n"
   ]
  },
  {
   "cell_type": "code",
   "execution_count": null,
   "metadata": {},
   "outputs": [],
   "source": [
    "# Test data\n",
    "te_data =  mnist.test.images\n",
    "print(\"Test data shape: {0}\".format(te_data.shape)) # (10000, 784)\n",
    "te_labels = mnist.test.labels\n",
    "\n",
    "# Validation data\n",
    "\n",
    "va_data = mnist.validation.images\n",
    "print(\"Validation data shape: {0}\".format(va_data.shape)) #  (5000,784)\n",
    "va_labels =  mnist.validation.labels\n"
   ]
  },
  {
   "cell_type": "code",
   "execution_count": null,
   "metadata": {},
   "outputs": [],
   "source": []
  }
 ],
 "metadata": {
  "language_info": {
   "codemirror_mode": {
    "name": "ipython",
    "version": 3
   },
   "file_extension": ".py",
   "mimetype": "text/x-python",
   "name": "python",
   "nbconvert_exporter": "python",
   "pygments_lexer": "ipython3",
   "version": "3.6.10-final"
  },
  "orig_nbformat": 2,
  "kernelspec": {
   "name": "python3",
   "display_name": "Python 3"
  }
 },
 "nbformat": 4,
 "nbformat_minor": 2
}