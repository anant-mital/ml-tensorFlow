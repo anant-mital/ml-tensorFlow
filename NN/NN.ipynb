{
 "metadata": {
  "language_info": {
   "codemirror_mode": {
    "name": "ipython",
    "version": 3
   },
   "file_extension": ".py",
   "mimetype": "text/x-python",
   "name": "python",
   "nbconvert_exporter": "python",
   "pygments_lexer": "ipython3",
   "version": "3.7.9"
  },
  "orig_nbformat": 2,
  "kernelspec": {
   "name": "python379jvsc74a57bd0c39eb5e2367948a99c8adabcea8451e62e0d43cce6c981e72091588869bd4926",
   "display_name": "Python 3.7.9 64-bit ('tf-gpu': conda)"
  }
 },
 "nbformat": 4,
 "nbformat_minor": 2,
 "cells": [
  {
   "cell_type": "code",
   "execution_count": 2,
   "metadata": {},
   "outputs": [],
   "source": [
    "import numpy as np"
   ]
  },
  {
   "cell_type": "code",
   "execution_count": null,
   "metadata": {},
   "outputs": [],
   "source": [
    "def sigma(z): # Activation Function\n",
    "    result = 1 / (1 + np.exp(z))\n",
    "    return result    "
   ]
  },
  {
   "cell_type": "code",
   "execution_count": null,
   "metadata": {},
   "outputs": [],
   "source": [
    "def dsigma_dz(z): # Derivative of activation function\n",
    "    result = np.exp(-z) / ((1 + np.exp(-z)) ** 2)\n",
    "    return result"
   ]
  },
  {
   "cell_type": "code",
   "execution_count": null,
   "metadata": {},
   "outputs": [],
   "source": [
    "def construct_network(n1 = 6, n2 = 7):\n",
    "    global W1, b1, W2, b2, W3, b3\n",
    "    W1 = np.random.randn(n1,1)\n",
    "    b1 = np.random.randn(n1,1)\n",
    "\n",
    "    W2 = np.random.randn(n2,n1)\n",
    "    b2 = np.random.randn(n2,1)\n",
    "\n",
    "    W3 = np.random.randn(2,n2)\n",
    "    b3 = np.random.randn(2,1)    "
   ]
  },
  {
   "cell_type": "code",
   "execution_count": null,
   "metadata": {},
   "outputs": [],
   "source": [
    "def feed_forward(a0):\n",
    "    z1 = W1 @ a0 + b1\n",
    "    a1 = sigma(z1)\n",
    "\n",
    "    z2 = W2 @ a1 + b2\n",
    "    a2 = sigma(z2)\n",
    "\n",
    "    z3 = W3 @ a2 + b3\n",
    "    a3 = sigma(z3)\n",
    "\n",
    "    return a0, a1, a2, a3, z1, z2, z3"
   ]
  },
  {
   "cell_type": "code",
   "execution_count": null,
   "metadata": {},
   "outputs": [],
   "source": [
    "def cost_function(estimated, target):\n",
    "    "
   ]
  },
  {
   "cell_type": "code",
   "execution_count": null,
   "metadata": {},
   "outputs": [],
   "source": []
  }
 ]
}